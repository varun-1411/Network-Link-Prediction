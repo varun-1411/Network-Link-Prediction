{
 "cells": [
  {
   "cell_type": "code",
   "execution_count": null,
   "metadata": {},
   "outputs": [],
   "source": []
  },
  {
   "cell_type": "code",
   "execution_count": null,
   "metadata": {},
   "outputs": [],
   "source": [
    "pr = nx.pagerank(g, alpha=0.85)\n"
   ]
  },
  {
   "cell_type": "markdown",
   "metadata": {},
   "source": [
    "# Jaccard successors"
   ]
  },
  {
   "cell_type": "code",
   "execution_count": null,
   "metadata": {},
   "outputs": [],
   "source": [
    "def jaccard_coeff_successors(G,node1,node2):\n",
    "    successors_u = set(G.successors(node1))\n",
    "    successors_v = set(G.successors(node2))\n",
    "    if successors_u and successors_v:\n",
    "        common_successors = successors_u.intersection(successors_v)\n",
    "        distinct_successors = successors_u.union(successors_v)\n",
    "        jaccard_coefficient_s = len(common_successors) / len(distinct_successors)\n",
    "        return jaccard_coefficient_s\n",
    "    else:\n",
    "        return 0"
   ]
  },
  {
   "cell_type": "markdown",
   "metadata": {},
   "source": [
    "# Jaccard predecessors"
   ]
  },
  {
   "cell_type": "code",
   "execution_count": null,
   "metadata": {},
   "outputs": [],
   "source": [
    "def jaccard_coeff_predecessors(G,node1,node2):\n",
    "    predecessors_u = set(G.predecessors(node1))\n",
    "    predecessors_v = set(G.predecessors(node2))\n",
    "    if predecessors_u and predecessors_v:\n",
    "        common_predecessors = predecessors_u.intersection(predecessors_v)\n",
    "        distinct_predecessors = predecessors_u.union(predecessors_v)\n",
    "        directed_jaccard_coefficient = len(common_predecessors) / len(distinct_predecessors)\n",
    "        return directed_jaccard_coefficient\n",
    "    else:\n",
    "        return 0"
   ]
  },
  {
   "cell_type": "markdown",
   "metadata": {},
   "source": [
    "# Pagerank"
   ]
  },
  {
   "cell_type": "code",
   "execution_count": null,
   "metadata": {},
   "outputs": [],
   "source": [
    "def pagerank(pr,train):\n",
    "    for i in tqdm(train.keys()):\n",
    "        train[i].append(pr[i[0]])\n",
    "        train[i].append(pr[i[1]])"
   ]
  },
  {
   "cell_type": "markdown",
   "metadata": {},
   "source": [
    "# Create dataframe"
   ]
  },
  {
   "cell_type": "markdown",
   "metadata": {},
   "source": [
    "df_pos = pd.DataFrame.from_dict(train_pos, orient='index')\n",
    "df_pos.columns = ['label', 'jaccard_coeff_predecessors', 'jaccard_coeff_successors', 'pagerank_u', 'pagerank_v', 'in_degree_v', 'out_degree_u', 'follows_back']\n",
    "df_ve = pd.DataFrame.from_dict(train_ve, orient='index')\n",
    "df_ve.columns = ['label', 'jaccard_coeff_predecessors', 'jaccard_coeff_successors', 'pagerank_u', 'pagerank_v', 'in_degree_v', 'out_degree_u', 'follows_back']\n",
    "df_ve['label'] = -1"
   ]
  },
  {
   "cell_type": "code",
   "execution_count": null,
   "metadata": {},
   "outputs": [],
   "source": [
    "df_train = pd.concat([df_pos, df_ve], ignore_index=True)"
   ]
  },
  {
   "cell_type": "code",
   "execution_count": null,
   "metadata": {},
   "outputs": [],
   "source": [
    "df_train.drop(columns=['follows_back','out_degree_u','in_degree_v'], inplace=True)"
   ]
  },
  {
   "cell_type": "markdown",
   "metadata": {},
   "source": [
    "# Corelation matrix"
   ]
  },
  {
   "cell_type": "code",
   "execution_count": null,
   "metadata": {},
   "outputs": [],
   "source": [
    "corr = df_train.corr()\n",
    "import seaborn as sns\n",
    "sns.heatmap(corr, annot=True)\n",
    "plt.show()"
   ]
  }
 ],
 "metadata": {
  "language_info": {
   "name": "python"
  },
  "orig_nbformat": 4
 },
 "nbformat": 4,
 "nbformat_minor": 2
}
